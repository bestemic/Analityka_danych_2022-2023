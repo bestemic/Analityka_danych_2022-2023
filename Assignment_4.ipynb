{
 "cells": [
  {
   "cell_type": "markdown",
   "metadata": {},
   "source": [
    "### Today we are going to perform the simple classification of the amazon reviews' sentiment.\n",
    "\n",
    "### Please, download the dataset amazon_baby.csv."
   ]
  },
  {
   "cell_type": "code",
   "execution_count": 1,
   "metadata": {},
   "outputs": [
    {
     "data": {
      "text/html": [
       "<div>\n",
       "<style scoped>\n",
       "    .dataframe tbody tr th:only-of-type {\n",
       "        vertical-align: middle;\n",
       "    }\n",
       "\n",
       "    .dataframe tbody tr th {\n",
       "        vertical-align: top;\n",
       "    }\n",
       "\n",
       "    .dataframe thead th {\n",
       "        text-align: right;\n",
       "    }\n",
       "</style>\n",
       "<table border=\"1\" class=\"dataframe\">\n",
       "  <thead>\n",
       "    <tr style=\"text-align: right;\">\n",
       "      <th></th>\n",
       "      <th>name</th>\n",
       "      <th>review</th>\n",
       "      <th>rating</th>\n",
       "    </tr>\n",
       "  </thead>\n",
       "  <tbody>\n",
       "    <tr>\n",
       "      <th>0</th>\n",
       "      <td>Planetwise Flannel Wipes</td>\n",
       "      <td>These flannel wipes are OK, but in my opinion ...</td>\n",
       "      <td>3</td>\n",
       "    </tr>\n",
       "    <tr>\n",
       "      <th>1</th>\n",
       "      <td>Planetwise Wipe Pouch</td>\n",
       "      <td>it came early and was not disappointed. i love...</td>\n",
       "      <td>5</td>\n",
       "    </tr>\n",
       "    <tr>\n",
       "      <th>2</th>\n",
       "      <td>Annas Dream Full Quilt with 2 Shams</td>\n",
       "      <td>Very soft and comfortable and warmer than it l...</td>\n",
       "      <td>5</td>\n",
       "    </tr>\n",
       "    <tr>\n",
       "      <th>3</th>\n",
       "      <td>Stop Pacifier Sucking without tears with Thumb...</td>\n",
       "      <td>This is a product well worth the purchase.  I ...</td>\n",
       "      <td>5</td>\n",
       "    </tr>\n",
       "    <tr>\n",
       "      <th>4</th>\n",
       "      <td>Stop Pacifier Sucking without tears with Thumb...</td>\n",
       "      <td>All of my kids have cried non-stop when I trie...</td>\n",
       "      <td>5</td>\n",
       "    </tr>\n",
       "  </tbody>\n",
       "</table>\n",
       "</div>"
      ],
      "text/plain": [
       "                                                name  \\\n",
       "0                           Planetwise Flannel Wipes   \n",
       "1                              Planetwise Wipe Pouch   \n",
       "2                Annas Dream Full Quilt with 2 Shams   \n",
       "3  Stop Pacifier Sucking without tears with Thumb...   \n",
       "4  Stop Pacifier Sucking without tears with Thumb...   \n",
       "\n",
       "                                              review  rating  \n",
       "0  These flannel wipes are OK, but in my opinion ...       3  \n",
       "1  it came early and was not disappointed. i love...       5  \n",
       "2  Very soft and comfortable and warmer than it l...       5  \n",
       "3  This is a product well worth the purchase.  I ...       5  \n",
       "4  All of my kids have cried non-stop when I trie...       5  "
      ]
     },
     "execution_count": 1,
     "metadata": {},
     "output_type": "execute_result"
    }
   ],
   "source": [
    "import pandas as pd\n",
    "import numpy as np\n",
    "import matplotlib.pyplot as plt\n",
    "import string\n",
    "from sklearn.linear_model import LogisticRegression\n",
    "\n",
    "def remove_punctuation(text):\n",
    "    import string\n",
    "    translator = str.maketrans('', '', string.punctuation)\n",
    "    return text.translate(translator)\n",
    "\n",
    "baby_df = pd.read_csv('amazon_baby.csv')\n",
    "baby_df.head()"
   ]
  },
  {
   "cell_type": "markdown",
   "metadata": {},
   "source": [
    "## Exercise 1 (data preparation)\n",
    "a) Remove punctuation from reviews using the given function.   \n",
    "b) Replace all missing (nan) revies with empty \"\" string.  \n",
    "c) Drop all the entries with rating = 3, as they have neutral sentiment.   \n",
    "d) Set all positive ($\\geq$4) ratings to 1 and negative($\\leq$2) to -1."
   ]
  },
  {
   "cell_type": "code",
   "execution_count": 2,
   "metadata": {},
   "outputs": [
    {
     "data": {
      "text/plain": [
       "True"
      ]
     },
     "execution_count": 2,
     "metadata": {},
     "output_type": "execute_result"
    }
   ],
   "source": [
    "#b)\n",
    "baby_df['review'] = baby_df['review'].fillna(\"\")\n",
    "\n",
    "#short test:\n",
    "baby_df[\"review\"][38] == baby_df[\"review\"][38]"
   ]
  },
  {
   "cell_type": "markdown",
   "metadata": {},
   "source": [
    "### Comment\n",
    "I changed the order of operations while preparing our data. In the first place, I had to change the empty values to empty words, so that later other functions would have no problem transforming the data.\n",
    "\n",
    "Here we see that data cleansing is essential because, regardless of how sophisticated your problem or algorithm is, you can’t obtain good results from bad data."
   ]
  },
  {
   "cell_type": "code",
   "execution_count": 3,
   "metadata": {
    "scrolled": false
   },
   "outputs": [
    {
     "data": {
      "text/plain": [
       "True"
      ]
     },
     "execution_count": 3,
     "metadata": {},
     "output_type": "execute_result"
    }
   ],
   "source": [
    "#a)\n",
    "baby_df['review'] = baby_df['review'].apply(remove_punctuation)\n",
    "\n",
    "#short test: \n",
    "baby_df[\"review\"][4] == 'All of my kids have cried nonstop when I tried to ween them off their pacifier until I found Thumbuddy To Loves Binky Fairy Puppet  It is an easy way to work with your kids to allow them to understand where their pacifier is going and help them part from itThis is a must buy book and a great gift for expecting parents  You will save them soo many headachesThanks for this book  You all rock'\n",
    "remove_punctuation(baby_df[\"review\"][4]) == 'All of my kids have cried nonstop when I tried to ween them off their pacifier until I found Thumbuddy To Loves Binky Fairy Puppet  It is an easy way to work with your kids to allow them to understand where their pacifier is going and help them part from itThis is a must buy book and a great gift for expecting parents  You will save them soo many headachesThanks for this book  You all rock'"
   ]
  },
  {
   "cell_type": "markdown",
   "metadata": {},
   "source": [
    "### Comment\n",
    "In this step, I performed transformations by applying a function to each line of our dataset that cleans the data from punctuation marks."
   ]
  },
  {
   "cell_type": "code",
   "execution_count": 4,
   "metadata": {},
   "outputs": [
    {
     "name": "stdout",
     "output_type": "stream",
     "text": [
      "Max rating [5]\n",
      "Min rating [1]\n"
     ]
    },
    {
     "data": {
      "text/plain": [
       "0"
      ]
     },
     "execution_count": 4,
     "metadata": {},
     "output_type": "execute_result"
    }
   ],
   "source": [
    "#c)\n",
    "print(f\"Max rating [{baby_df.rating.max()}]\")\n",
    "print(f\"Min rating [{baby_df.rating.min()}]\")\n",
    "\n",
    "baby_df = baby_df[baby_df.rating != 3]\n",
    "\n",
    "#short test:\n",
    "sum(baby_df[\"rating\"] == 3)"
   ]
  },
  {
   "cell_type": "markdown",
   "metadata": {},
   "source": [
    "### Comment\n",
    "In this step, I first checked what is the scope of the assessment. Negative equals 1 and positive equals 5. Then I removed all records with a rating of 3 as it is natural and we will not work on them in this set."
   ]
  },
  {
   "cell_type": "code",
   "execution_count": 5,
   "metadata": {},
   "outputs": [
    {
     "data": {
      "text/plain": [
       "0"
      ]
     },
     "execution_count": 5,
     "metadata": {},
     "output_type": "execute_result"
    }
   ],
   "source": [
    "#d) \n",
    "def set_rate(rate):\n",
    "    if rate <= 2:\n",
    "        return -1\n",
    "    if rate >= 4:\n",
    "        return 1\n",
    "\n",
    "baby_df['rating'] = baby_df['rating'].apply(set_rate)\n",
    "    \n",
    "#short test:\n",
    "sum(baby_df[\"rating\"]**2 != 1)"
   ]
  },
  {
   "cell_type": "markdown",
   "metadata": {},
   "source": [
    "### Comment\n",
    "In this step, I assigned all positive ratings 1 and negative ratings -1."
   ]
  },
  {
   "cell_type": "code",
   "execution_count": 6,
   "metadata": {},
   "outputs": [
    {
     "data": {
      "text/html": [
       "<div>\n",
       "<style scoped>\n",
       "    .dataframe tbody tr th:only-of-type {\n",
       "        vertical-align: middle;\n",
       "    }\n",
       "\n",
       "    .dataframe tbody tr th {\n",
       "        vertical-align: top;\n",
       "    }\n",
       "\n",
       "    .dataframe thead th {\n",
       "        text-align: right;\n",
       "    }\n",
       "</style>\n",
       "<table border=\"1\" class=\"dataframe\">\n",
       "  <thead>\n",
       "    <tr style=\"text-align: right;\">\n",
       "      <th></th>\n",
       "      <th>name</th>\n",
       "      <th>review</th>\n",
       "      <th>rating</th>\n",
       "    </tr>\n",
       "  </thead>\n",
       "  <tbody>\n",
       "    <tr>\n",
       "      <th>17</th>\n",
       "      <td>Nature's Lullabies Second Year Sticker Calendar</td>\n",
       "      <td>This was the only calender I could find for th...</td>\n",
       "      <td>1</td>\n",
       "    </tr>\n",
       "    <tr>\n",
       "      <th>18</th>\n",
       "      <td>Nature's Lullabies Second Year Sticker Calendar</td>\n",
       "      <td>I completed a calendar for my sons first year ...</td>\n",
       "      <td>1</td>\n",
       "    </tr>\n",
       "    <tr>\n",
       "      <th>19</th>\n",
       "      <td>Nature's Lullabies Second Year Sticker Calendar</td>\n",
       "      <td>We wanted to get something to keep track of ou...</td>\n",
       "      <td>1</td>\n",
       "    </tr>\n",
       "    <tr>\n",
       "      <th>20</th>\n",
       "      <td>Nature's Lullabies Second Year Sticker Calendar</td>\n",
       "      <td>I had a hard time finding a second year calend...</td>\n",
       "      <td>1</td>\n",
       "    </tr>\n",
       "    <tr>\n",
       "      <th>21</th>\n",
       "      <td>Nature's Lullabies Second Year Sticker Calendar</td>\n",
       "      <td>I only purchased a secondyear calendar for my ...</td>\n",
       "      <td>-1</td>\n",
       "    </tr>\n",
       "    <tr>\n",
       "      <th>22</th>\n",
       "      <td>Nature's Lullabies Second Year Sticker Calendar</td>\n",
       "      <td>I LOVE this calendar for recording events of m...</td>\n",
       "      <td>1</td>\n",
       "    </tr>\n",
       "    <tr>\n",
       "      <th>24</th>\n",
       "      <td>Nature's Lullabies Second Year Sticker Calendar</td>\n",
       "      <td>Wife loves this calender Comes with a lot of s...</td>\n",
       "      <td>1</td>\n",
       "    </tr>\n",
       "    <tr>\n",
       "      <th>25</th>\n",
       "      <td>Nature's Lullabies Second Year Sticker Calendar</td>\n",
       "      <td>My daughter had her 1st baby over a year ago S...</td>\n",
       "      <td>1</td>\n",
       "    </tr>\n",
       "    <tr>\n",
       "      <th>26</th>\n",
       "      <td>Baby's First Journal - Green</td>\n",
       "      <td>Extremely useful As a new mom tired and inexpe...</td>\n",
       "      <td>1</td>\n",
       "    </tr>\n",
       "    <tr>\n",
       "      <th>28</th>\n",
       "      <td>Lamaze Peekaboo, I Love You</td>\n",
       "      <td>One of babys first and favorite books and it i...</td>\n",
       "      <td>1</td>\n",
       "    </tr>\n",
       "  </tbody>\n",
       "</table>\n",
       "</div>"
      ],
      "text/plain": [
       "                                               name  \\\n",
       "17  Nature's Lullabies Second Year Sticker Calendar   \n",
       "18  Nature's Lullabies Second Year Sticker Calendar   \n",
       "19  Nature's Lullabies Second Year Sticker Calendar   \n",
       "20  Nature's Lullabies Second Year Sticker Calendar   \n",
       "21  Nature's Lullabies Second Year Sticker Calendar   \n",
       "22  Nature's Lullabies Second Year Sticker Calendar   \n",
       "24  Nature's Lullabies Second Year Sticker Calendar   \n",
       "25  Nature's Lullabies Second Year Sticker Calendar   \n",
       "26                     Baby's First Journal - Green   \n",
       "28                      Lamaze Peekaboo, I Love You   \n",
       "\n",
       "                                               review  rating  \n",
       "17  This was the only calender I could find for th...       1  \n",
       "18  I completed a calendar for my sons first year ...       1  \n",
       "19  We wanted to get something to keep track of ou...       1  \n",
       "20  I had a hard time finding a second year calend...       1  \n",
       "21  I only purchased a secondyear calendar for my ...      -1  \n",
       "22  I LOVE this calendar for recording events of m...       1  \n",
       "24  Wife loves this calender Comes with a lot of s...       1  \n",
       "25  My daughter had her 1st baby over a year ago S...       1  \n",
       "26  Extremely useful As a new mom tired and inexpe...       1  \n",
       "28  One of babys first and favorite books and it i...       1  "
      ]
     },
     "execution_count": 6,
     "metadata": {},
     "output_type": "execute_result"
    }
   ],
   "source": [
    "baby_df.head(25).tail(10)"
   ]
  },
  {
   "cell_type": "markdown",
   "metadata": {},
   "source": [
    "### Comment\n",
    "Our data has been cleaned and prepared for further analysis and testing."
   ]
  },
  {
   "cell_type": "markdown",
   "metadata": {},
   "source": [
    "## CountVectorizer\n",
    "In order to analyze strings, we need to assign them numerical values. We will use one of the simplest string representation, which transforms strings into the $n$ dimensional vectors. The number of dimensions will be the size of our dictionary, and then the values of the vector will represent the number of appereances of the given word in the sentence."
   ]
  },
  {
   "cell_type": "code",
   "execution_count": 7,
   "metadata": {},
   "outputs": [
    {
     "name": "stdout",
     "output_type": "stream",
     "text": [
      "['adore' 'and' 'apples' 'bananas' 'dislike' 'hate' 'like' 'oranges' 'they'\n",
      " 'we']\n",
      "[[0 0 1 0 0 0 1 0 0 1]\n",
      " [0 0 0 0 0 1 0 1 0 1]\n",
      " [1 0 0 1 0 0 0 0 0 0]\n",
      " [0 1 1 0 0 0 2 1 0 1]\n",
      " [0 0 0 1 1 0 0 0 1 0]]\n"
     ]
    }
   ],
   "source": [
    "from sklearn.feature_extraction.text import CountVectorizer\n",
    "\n",
    "vectorizer = CountVectorizer()\n",
    "reviews_train_example = [\"We like apples\",\n",
    "                   \"We hate oranges\",\n",
    "                   \"I adore bananas\",\n",
    "                   \"We like like apples and oranges\",\n",
    "                   \"They dislike bananas\"]\n",
    "\n",
    "X_train_example = vectorizer.fit_transform(reviews_train_example)\n",
    "\n",
    "print(vectorizer.get_feature_names_out())\n",
    "print(X_train_example.todense())\n",
    "\n"
   ]
  },
  {
   "cell_type": "code",
   "execution_count": 8,
   "metadata": {},
   "outputs": [
    {
     "name": "stdout",
     "output_type": "stream",
     "text": [
      "[[0 0 0 1 0 0 1 0 1 0]\n",
      " [0 1 1 1 0 1 0 1 0 1]\n",
      " [0 0 0 1 0 0 0 0 0 1]]\n"
     ]
    }
   ],
   "source": [
    "reviews_test_example = [\"They like bananas\",\n",
    "                   \"We hate oranges bananas and apples\",\n",
    "                   \"We love bananas\"] #New word!\n",
    "\n",
    "X_test_example = vectorizer.transform(reviews_test_example)\n",
    "\n",
    "print(X_test_example.todense())"
   ]
  },
  {
   "cell_type": "markdown",
   "metadata": {},
   "source": [
    "We should acknowledge few facts. Firstly, CountVectorizer does not take order into account. Secondly, it ignores one-letter words (this can be changed during initialization). Finally, for test values, CountVectorizer ignores words which are not in it's dictionary."
   ]
  },
  {
   "cell_type": "markdown",
   "metadata": {},
   "source": [
    "## Exercise 2 \n",
    "a) Split dataset into training and test sets.     \n",
    "b) Transform reviews into vectors using CountVectorizer. "
   ]
  },
  {
   "cell_type": "code",
   "execution_count": 9,
   "metadata": {},
   "outputs": [],
   "source": [
    "#a)\n",
    "from sklearn.model_selection import train_test_split\n",
    "\n",
    "train_df, test_df = train_test_split(baby_df, test_size=0.3, random_state=44)"
   ]
  },
  {
   "cell_type": "code",
   "execution_count": 10,
   "metadata": {},
   "outputs": [
    {
     "data": {
      "text/plain": [
       "array(['00', '000', '001', ..., 'zzzzzz', 'zzzzzzz', 'zzzzzzzzzzz'],\n",
       "      dtype=object)"
      ]
     },
     "execution_count": 10,
     "metadata": {},
     "output_type": "execute_result"
    }
   ],
   "source": [
    "#b)\n",
    "vectorizer = CountVectorizer()\n",
    "\n",
    "x_train = vectorizer.fit_transform(train_df['review'])\n",
    "x_test = vectorizer.transform(test_df['review'])\n",
    "\n",
    "y_train = train_df['rating']\n",
    "y_test = test_df['rating']\n",
    "vectorizer.get_feature_names_out()"
   ]
  },
  {
   "cell_type": "markdown",
   "metadata": {},
   "source": [
    "### Comment\n",
    "First, I divided the data into training and testing. I assigned 30% of all data to the test data, in reality we should take around 20%, but I wanted to experiment and see how our model will cope with this amount of training data.\n",
    "\n",
    "In the next step I learn the vocabulary dictionary using the training data and after this I returned document-term matrix (I did it in one step using fit_transform). Finally, I also transformed the test data using the fitted model."
   ]
  },
  {
   "cell_type": "markdown",
   "metadata": {},
   "source": [
    "## Exercise 3 \n",
    "a) Train LogisticRegression model on training data (reviews processed with CountVectorizer, ratings as they were).   \n",
    "b) Print 10 most positive and 10 most negative words."
   ]
  },
  {
   "cell_type": "code",
   "execution_count": 11,
   "metadata": {},
   "outputs": [
    {
     "name": "stderr",
     "output_type": "stream",
     "text": [
      "C:\\Users\\SG0316762\\.conda\\envs\\michal_conda\\lib\\site-packages\\sklearn\\linear_model\\_sag.py:350: ConvergenceWarning: The max_iter was reached which means the coef_ did not converge\n",
      "  warnings.warn(\n"
     ]
    },
    {
     "data": {
      "text/html": [
       "<style>#sk-container-id-1 {color: black;background-color: white;}#sk-container-id-1 pre{padding: 0;}#sk-container-id-1 div.sk-toggleable {background-color: white;}#sk-container-id-1 label.sk-toggleable__label {cursor: pointer;display: block;width: 100%;margin-bottom: 0;padding: 0.3em;box-sizing: border-box;text-align: center;}#sk-container-id-1 label.sk-toggleable__label-arrow:before {content: \"▸\";float: left;margin-right: 0.25em;color: #696969;}#sk-container-id-1 label.sk-toggleable__label-arrow:hover:before {color: black;}#sk-container-id-1 div.sk-estimator:hover label.sk-toggleable__label-arrow:before {color: black;}#sk-container-id-1 div.sk-toggleable__content {max-height: 0;max-width: 0;overflow: hidden;text-align: left;background-color: #f0f8ff;}#sk-container-id-1 div.sk-toggleable__content pre {margin: 0.2em;color: black;border-radius: 0.25em;background-color: #f0f8ff;}#sk-container-id-1 input.sk-toggleable__control:checked~div.sk-toggleable__content {max-height: 200px;max-width: 100%;overflow: auto;}#sk-container-id-1 input.sk-toggleable__control:checked~label.sk-toggleable__label-arrow:before {content: \"▾\";}#sk-container-id-1 div.sk-estimator input.sk-toggleable__control:checked~label.sk-toggleable__label {background-color: #d4ebff;}#sk-container-id-1 div.sk-label input.sk-toggleable__control:checked~label.sk-toggleable__label {background-color: #d4ebff;}#sk-container-id-1 input.sk-hidden--visually {border: 0;clip: rect(1px 1px 1px 1px);clip: rect(1px, 1px, 1px, 1px);height: 1px;margin: -1px;overflow: hidden;padding: 0;position: absolute;width: 1px;}#sk-container-id-1 div.sk-estimator {font-family: monospace;background-color: #f0f8ff;border: 1px dotted black;border-radius: 0.25em;box-sizing: border-box;margin-bottom: 0.5em;}#sk-container-id-1 div.sk-estimator:hover {background-color: #d4ebff;}#sk-container-id-1 div.sk-parallel-item::after {content: \"\";width: 100%;border-bottom: 1px solid gray;flex-grow: 1;}#sk-container-id-1 div.sk-label:hover label.sk-toggleable__label {background-color: #d4ebff;}#sk-container-id-1 div.sk-serial::before {content: \"\";position: absolute;border-left: 1px solid gray;box-sizing: border-box;top: 0;bottom: 0;left: 50%;z-index: 0;}#sk-container-id-1 div.sk-serial {display: flex;flex-direction: column;align-items: center;background-color: white;padding-right: 0.2em;padding-left: 0.2em;position: relative;}#sk-container-id-1 div.sk-item {position: relative;z-index: 1;}#sk-container-id-1 div.sk-parallel {display: flex;align-items: stretch;justify-content: center;background-color: white;position: relative;}#sk-container-id-1 div.sk-item::before, #sk-container-id-1 div.sk-parallel-item::before {content: \"\";position: absolute;border-left: 1px solid gray;box-sizing: border-box;top: 0;bottom: 0;left: 50%;z-index: -1;}#sk-container-id-1 div.sk-parallel-item {display: flex;flex-direction: column;z-index: 1;position: relative;background-color: white;}#sk-container-id-1 div.sk-parallel-item:first-child::after {align-self: flex-end;width: 50%;}#sk-container-id-1 div.sk-parallel-item:last-child::after {align-self: flex-start;width: 50%;}#sk-container-id-1 div.sk-parallel-item:only-child::after {width: 0;}#sk-container-id-1 div.sk-dashed-wrapped {border: 1px dashed gray;margin: 0 0.4em 0.5em 0.4em;box-sizing: border-box;padding-bottom: 0.4em;background-color: white;}#sk-container-id-1 div.sk-label label {font-family: monospace;font-weight: bold;display: inline-block;line-height: 1.2em;}#sk-container-id-1 div.sk-label-container {text-align: center;}#sk-container-id-1 div.sk-container {/* jupyter's `normalize.less` sets `[hidden] { display: none; }` but bootstrap.min.css set `[hidden] { display: none !important; }` so we also need the `!important` here to be able to override the default hidden behavior on the sphinx rendered scikit-learn.org. See: https://github.com/scikit-learn/scikit-learn/issues/21755 */display: inline-block !important;position: relative;}#sk-container-id-1 div.sk-text-repr-fallback {display: none;}</style><div id=\"sk-container-id-1\" class=\"sk-top-container\"><div class=\"sk-text-repr-fallback\"><pre>LogisticRegression(max_iter=200, solver=&#x27;sag&#x27;)</pre><b>In a Jupyter environment, please rerun this cell to show the HTML representation or trust the notebook. <br />On GitHub, the HTML representation is unable to render, please try loading this page with nbviewer.org.</b></div><div class=\"sk-container\" hidden><div class=\"sk-item\"><div class=\"sk-estimator sk-toggleable\"><input class=\"sk-toggleable__control sk-hidden--visually\" id=\"sk-estimator-id-1\" type=\"checkbox\" checked><label for=\"sk-estimator-id-1\" class=\"sk-toggleable__label sk-toggleable__label-arrow\">LogisticRegression</label><div class=\"sk-toggleable__content\"><pre>LogisticRegression(max_iter=200, solver=&#x27;sag&#x27;)</pre></div></div></div></div></div>"
      ],
      "text/plain": [
       "LogisticRegression(max_iter=200, solver='sag')"
      ]
     },
     "execution_count": 11,
     "metadata": {},
     "output_type": "execute_result"
    }
   ],
   "source": [
    "#a)\n",
    "model = LogisticRegression(solver='sag', max_iter=200)\n",
    "model.fit(x_train, y_train)"
   ]
  },
  {
   "cell_type": "markdown",
   "metadata": {},
   "source": [
    "### Comment\n",
    "The first step I took to be able to predict ratings was to train a logistic regression model using training data. This model is a model in which the dependent variables take only two values (that's why we had to convert to 1 and -1). \n",
    "\n",
    "As we have quite a complex dataset, I used a different solver that is more optimal for larger amounts of data. I also changed the maximum number of iterations after which the learning operation is interrupted.\n",
    "\n",
    "As we train more and more data and complexity of algorithms increases, the running time of such models also can increase significantly. For example, this model took a minute to complete, but many business models used in companies can take several hours to learn."
   ]
  },
  {
   "cell_type": "code",
   "execution_count": 12,
   "metadata": {},
   "outputs": [
    {
     "name": "stdout",
     "output_type": "stream",
     "text": [
      "Most positive words: ['exactly', 'pleased', 'great', 'perfectly', 'best', 'happy', 'easy', 'love', 'perfect', 'loves']\n",
      "Most negative words: ['disappointed', 'returned', 'waste', 'return', 'poor', 'useless', 'returning', 'broke', 'idea', 'unfortunately']\n"
     ]
    }
   ],
   "source": [
    "#b)\n",
    "all_names = vectorizer.get_feature_names_out()\n",
    "all_coefs = model.coef_[0]\n",
    "\n",
    "paired_coefs = list(zip(all_coefs, all_names))\n",
    "sorted_coefs = sorted(paired_coefs, key=lambda x: x[0])\n",
    "\n",
    "print(f\"Most positive words: {[x[1] for x in sorted_coefs[-10:]]}\")\n",
    "print(f\"Most negative words: {[x[1] for x in sorted_coefs[:10]]}\")"
   ]
  },
  {
   "cell_type": "markdown",
   "metadata": {},
   "source": [
    "### Comment\n",
    "Using the feature factor in the decision function, we can easily find out what the most negative and positive words were. As we might have guessed, these positive words are most often associated with human emotions. Among the negative ones word \"return\" appears the most."
   ]
  },
  {
   "cell_type": "markdown",
   "metadata": {},
   "source": [
    "## Exercise 4 \n",
    "a) Predict the sentiment of test data reviews.   \n",
    "b) Predict the sentiment of test data reviews in terms of probability.   \n",
    "c) Find five most positive and most negative reviews.   \n",
    "d) Calculate the accuracy of predictions."
   ]
  },
  {
   "cell_type": "code",
   "execution_count": 13,
   "metadata": {
    "scrolled": false
   },
   "outputs": [
    {
     "name": "stdout",
     "output_type": "stream",
     "text": [
      "Number of test elements [50026]\n",
      "Number of mistakes in predictions [3493]\n",
      "Percentage of correct predictions [93.02%]\n"
     ]
    }
   ],
   "source": [
    "#a)\n",
    "prediction = model.predict(x_test)\n",
    "\n",
    "diff = 0\n",
    "\n",
    "for i in range(len(prediction)):\n",
    "    if prediction[i] != y_test.tolist()[i]:\n",
    "        diff += 1\n",
    "        \n",
    "pred_number = len(prediction)\n",
    "\n",
    "print(f\"Number of test elements [{pred_number}]\")        \n",
    "print(f\"Number of mistakes in predictions [{diff}]\")\n",
    "print(f\"Percentage of correct predictions [{np.round((pred_number - diff) * 100 / pred_number, 2)}%]\")"
   ]
  },
  {
   "cell_type": "markdown",
   "metadata": {},
   "source": [
    "### Comment\n",
    "Using the predict method, I predicted the sentiment of the test data. Then I compared the result with real values. The model fits very well because we have only 7% of incorrect indications in the predicted values."
   ]
  },
  {
   "cell_type": "code",
   "execution_count": 14,
   "metadata": {},
   "outputs": [
    {
     "name": "stdout",
     "output_type": "stream",
     "text": [
      "[[5.42684318e-04 9.99457316e-01]\n",
      " [9.99846764e-01 1.53235709e-04]\n",
      " [6.01965609e-04 9.99398034e-01]\n",
      " ...\n",
      " [5.48193296e-04 9.99451807e-01]\n",
      " [8.45333125e-01 1.54666875e-01]\n",
      " [1.20174118e-01 8.79825882e-01]]\n",
      "Model classes [-1  1]\n"
     ]
    }
   ],
   "source": [
    "#b)\n",
    "proba_prediction = model.predict_proba(x_test)\n",
    "print(proba_prediction)\n",
    "print(f\"Model classes {model.classes_}\")"
   ]
  },
  {
   "cell_type": "markdown",
   "metadata": {},
   "source": [
    "### Comment\n",
    "This method returns class estimates for each predicted item. In our case, there are two classes. The closer the value for a given class is to 0, the more certain the model is that it is a wrong term, and the closer to 1, the more certain it is that it is a certain value for a given class."
   ]
  },
  {
   "cell_type": "code",
   "execution_count": 15,
   "metadata": {
    "scrolled": false
   },
   "outputs": [
    {
     "name": "stdout",
     "output_type": "stream",
     "text": [
      "Most positive reviews:\n",
      "* This review is going to compare 3 JuJuBe bags  Im writing a lot because I wish I had this info before I started shopping for a diaper bag  I am a first time mom so I am probably packing different than a mom thats been around the block  Also we are cloth diapering but not 100 of the time  We use the disposable biodegradable inserts for the cloth covers when we want to pack light  and those things take up less room than traditional disposables  But I wanted a bag that gave me options for either type of diaper  Here is what I found  I hope reading this long post will help you save some time and return shipping fees while shoppingI already had the JuJuBe BFF and Be Prepared before I bought the Be Right Back backpack  I bought them at a different store one with an amazing return policy so I left the tags on and debated the bags for a long time  I packed them and repacked them so many times and this is what I came up with  The BFF is too small and the Be Prepared is too big  Both are GREAT bags  This company really makes quality products with excellent organization  Let me tell you Im a bit of a snob when it comes to quality  I will not deal with poorly made stuff breaking down on me  Straight to the donation station or trash if something sucks  This company does not suckthey manufacture very well made products with very good material zippers snaps magnets etc  Go to their website to learn about the fabric treatment process and ease of care  My friends that bought the cheapo bags are now drooling over the JuJuBe quality  So I loved both bags and I really wanted to keep them  But I couldnt get past the BFF just being a little too small and Id have to have a second bag with meand the Be Prepared is super huge and I felt like I was carrying a suitcaseBFF  This bag is really awesome  The organization is surprisingly smart  The inside pockets look small but they hold tons  You can fit a full size wipes pack in any of the four large interior pockets but you cant fill all pockets that much at the same time  The smaller back interior pockets with the zippers are smaller than the open pockets but still hold quite a lot of little stuff like bibs socks Boogie Wipes or whatever kind of little stuff you carry around  The front interior zipper pocket is long and shallow  I kept putting my nursing cover in that pocketanything bigger would bulge into the front 34mommy pocket34 and make that space smaller  The outside pockets are insulated and hold a baby bottle or water bottleI have a Kleen Kanteen 27 or 28 oz bottle and it did fit in that pocket but it stuck out a lot because its really tallI didnt like that if I was keeping the BFF bag Id have to get smaller water bottle and I didnt like that because I drink tons of water  If you load up all the inside pockets you dont have a whole lot of room left for the diapers and blankets etc  The main compartment leaves much to be desired as far as spaceif youre running to the coffee shop with your girlfriends and going home youll be finebut you cannot pack for a whole day in here  The 34mommy pocket34 on this bag is well organized but I found it a little too small  I needed to fit all of my personal items in there because there was no room in the main part of the bag  I dont carry that many things for myself a wallet coin purse pen chap stick tiny hand lotion cell phone eye drops and extra pair of contact lenses  I could not fit all that in the mommy pocket even when I put my cell phone in the separate little cell phone pocket  My take on this bag Its wonderful if you pack really light  I was not even trying to get cloth diapers in there and it was still tight  If you dont need burp clothes and a blanket and an extra outfits youd be finemaybe a mom with one toddler that is past the bottle stage  Im bummed that it didnt work because I really wanted to keep it  It really is a cute bagBE PREPARED This bag is the mother ship  Its very much like the BFF but way bigger  I was thinking of using it for our overnight or weekend bagif i were to pack this one like the babys suitcase and use the Be Right Back backpack like normal when were out of town Id have everything I needed in those two bags for a weekend  However for normal daily use the Be Prepare is a mammoth and I dont want to lug it around with me while Im trying to hold my babyit would fit all my cloth diapers and the kitchen sinkbut its over kill for me with one infant  I might keep this wonderful big bag anyway for weekend trips because we do a lot of those and I think its cool that they matchbaby luggage BE RIGHT BACK  This backpack is super cool  It is very different from the other two bags  Its almost perfectly in the middle of the 2 other sized bags  It has way less of the small inside pockets  Really only 2 big pockets on inside and 2 on outside plus mommy pocket and 2 outside bottle pockets  I do not mind at all that it has less pockets because I keep most of my really tiny stuff in the JuJuBe accessory bags  If you have a small bagpouch and dont know where to put itstick it in the mesh zipper pouch  This bag is comfortable to wear  definitely more comfortable than the BBF backpack straps even though I loaded it with more items I think that is because the bag is longer so it sits on your back differently  I have a bad back from a car accident so comfort is something I really pay attention to  This bag is easy to get in and out of  It opens flat like a suitcase so no digging for stuff  Its shaped like a traditional backpack but I dont feel like Im back in college when wearing it because the prints get big style pointsTo give you an idea of the space here is how I pack it up  I have my breast feeding cover and 6 disposable breast pads in the front pocket with room to spare  Mommy pocket fits all my personal items that I listed above with room to spare  Side bottle pockets are deeper and my tall water bottle that was too big for BFF fits great in this bag  I have easy access burp clothes in the other bottle pocket because I am still breast feeding large baby bottle or sippy cup would fit easily  The pocket on the top by the grab handle is super useful  Right now I am using it for all my different kinds of small wipes packs face wipes paci wipes anti bac wipes hand sanitizer gel etc they all fit  You could use that spot for so many different things that you want easy access to  The side zipper compartment for the changing pad is very smart  Its so out of the way  I have the pad that came with it in there now and a pack of sanitizing wipes for public bathroom changing table  Ill need a bigger pad when baby grows but you could fit a massive pad in thereor magazines or change of clothes or blanket or iPad or anything flat and you really cant even tell that you filled it upits very comfortable against your back while you wear the bag  Inside the bag in the zipper mesh pocket I have a large receiving blanket two changes of 03 month clothes 2 socks and 2 bibs  In the back mesh pocket I have a Be Mine packed as a first aid kit and a similar sized bag with a little momfreshup kit I put together for when I have baby puke in my hair and I look like a messkinda a get it together and look normal kit  I never could have fit that kit in the BFF and now that I have it I think its important to have somethings for yourself so you dont feel yucky  Those items never leave the bag without getting restockedAside from what I just listed in the main inside compartment I can fit 2 large burp cloths and 2 Be Quick bags one filled with baby items the other filled with my disposable diaper inserts for when I dont want to bring cloth diapers a full Fuel Cell cooler and babys favorite lovey  When I do want to carry my cloth diapers I ditch the fuel cell and the Be Quick with the disposables in it  I can then fit my cloth diaper pouch the pouch I use is big and could fit 4 full size AIO diapers 8 cloth wipes wipe spray a thin changing pad and wet bag  so it takes up a lot of spacethen I can still fit the Be Quick with the baby items the burp cloths the lovey a little bag with teethers and my Rockn Baby slingSo the Be Right Back fits tons  And it works wonderfully if you just put a few things in there  Im sure Ill be packing differently as my babys needs change  But for now with an infant this bag has got me covered for all day in cloth diapers or all day in disposables with a big packed lunch for mom and dad  It also still works great to pack it light for a shorter tripI just havent gotten to where I can pack light all the time personally  The bag is very versatile as far as what you can take with you  Where it is not versatile is carry style  Its a backpackif you dont like backpacks keep shoppingAll the JuJuBe accessories are made to fit into the main bags  I highly recommend getting the accessory bags so you can organize yourself and know that your stuff will always fit in your main bag  Using the smaller bags to organize makes it SO very easy to switch from bag to bag without leaving anything behind on accident  I love the organization  There are a few things that are kinda vanishing from the companies websiteI think they are revamping a few designs because they are running out of some of their most popular accessoriesI expect to see them come back with a newly added pocket or zipper or somethingJuJuBe is good about having lots of print selections to choose from  I do find a lot of the prints too feminine for my taste which is why I love the Royal Envy printhonestly if that Be Prepared bag I have was a different print Id just return it and buy that bag again later when I really need itbut Royal Envy is discontinued and I really dont want to part with it knowing it wont be available later  If you are new to this company know thisonce you pick out your main bag if you want to load up on accessories that match you better not wait too long  I cant believe how fast they sell out  then the print is discontinued and you are left to sadly troll Ebay looking for the pieces you want  Just buy them when you get the main bag  They are worth it and everything from this company has great resalethere are FB groups devoted to buy sell trade JuJuBe stuffSide note This bag is has a very sporty look  Great for normal days running around  I also bought a Nest Dexter diaper bag for dressy occasions  That bag is very different from this one and its awesome too but I havent reviewed it  And that bag fits all the JuJuBe accessory bags that I love  I mentioned my husband as a mens diaper backpack  Its the Quicksilver Daddy Day Bag  Great man bagI was going to proof read and spell check but after writing all this Im over it  Sorry for any typos  Really hope this helps you\n",
      "\n",
      "* Ive had this stroller for a little more than six months When I bought it I had a barely 3 year old son and a 3 month old baby My 3 year old is now 43 inches and still has plenty of room in both the front and the back seat I cant shop without a stroller that will fit both kids  even when I wear my baby I need a place to put her if I put her down The Joovy Ergo is so much more useful than any other stroller Ive tried Every other stroller Ive had has been good for a while but then due to its limitations we outgrow it This one is adaptable so Im still happy with it even now that my newborn is growing upWere still using it mostly with the baby in her baby carrier I LOVE that she is up high and next to me I was worried it would be hard to push with my 39lb son in front but it is SO much easier than the Graco Quattro Duo we had before Its not a onehand push when the heavier child is in front unless youre just going straight My son sleeps in the front seat a lot while my daughter sleeps in the front With most any other sitnstand they wouldnt be able to do thatWhen we use it with the baby in front and the big kid in back I can push and turn it with one hand It doesnt turn on a dime but it goes much better than other tandems I good sidebyside can turn better but IMO sidebysides are for walks not shopping or crowded areas The Joovy goes to the mallstoresmuseums and fits very well through crowdsThe Joovy also performs fairly well on grass We have thick grass where I live and I was worried about this but it performs well enough that Im getting rid of my jogging stroller because we dont need it anymore for grass excursions I dont jogIt pushes through snow pretty well The front wheels arent that big and I dont want the basket wet so I avoid snow but it pushes pretty well in an inch or soTheres an art to going up a curb in it Its fairly easy to push on the back bar and raise the front of the stroller much easier than the tandem Graco but the front wheels are on quick bearings and they will skitter around fast if you are not careful The first time I did it I thought I was going to lose the whole thing but it was fine just a disconcerting feelingThe canopies are AWESOME My son often hides in the front one like its his cave The new models dont have the floppier fleece front part of the hood now its all the same fabric I didnt mind the floppy fleece anyway It works well and I like to be able to fold it backThe basket is really big and SO easy to get to Its harder to get to when the infant seat is in place I also sometimes tip the canopy all the way to the front and put big bags on the front seat that way held in by the canopyMy son says the mesh seat us realy comfy He loves it Its certainly got plenty of room for himIt weighs less and is easier to handle than our previous Graco Quattro Tour Duo which I only kept a few months It fits in the trunk of my Honda minivan Its BIG Its a BIG double tandem stroller Its just SO comfortable to use once youve got it out Ive done the lightweight thing and its nice for certain times but most of the time when were out I need a place for sleepy kids and all of our winter coats baby stuff and shopping stuffThe build quality is very solid Our Gracos had parts start to wear through by this time but the Joovy has held up I did have a problem with the front seat flopping back sometimes because I have the first version of this stroller they changed the mechanism now but I called Joovy and theyre sending a whole NEW stroller Thats incredible customer service and amazing product support In my experience this is not the norm They are going above and beyond here and I can say that I will recommend Joovy products to everyone because they are standing by what they sell No one wants to spend hundreds of dollars on something and be told to use velcro or tape to fix it but Ive heard of other companies doing just that Joovy has also listened to what people said about the Ergo and made some new updates to fix issues that people had like the seat recline and the canopy Ive noticed that Joovy did that with the Joovy Ultralight tooIts a twohand fold Once its folded you can roll it on the rear wheels really easily so moving it isnt too hard Its heavy to lift into the trunk yes but its significantly lighter than the Graco tandemHust some random information about our experiences with the strollerWhen the weather turned cold I bought the padded seat covers and theyre very nice My son chose green and it looks sharp and has stayed clean I like the seat covers a lot The rear seat cover means you have to move it a little before you can flip up the rear seat to get full access to the basket but its no big deal to me I know some people have complained about that I guess you could just use the front cover and leave the rear one offWe started out with a Graco Quattro Tour Duo but it was hard to push with my son and daughter in it very heavy and with a 3 year old the stroller seat is not ideal After two years old it seems like most kids are just much happier in the big kid sit n standWe tried the Phil  Teds but since my son is so tall for his age it just wouldnt work because the baby would have to be in the doubles kit and with the doubles kit on theres no room for diaper bags and winter coatsWe tried the Baby Jogger City Mini Double but 3 year olds and up dont want to sit in a baby seat and that thing is really BIG Dont get me wrong the Joovy Ergo is also big but Ive had it side by side with a BJCMD in a museum and the BJCMD had a lot of trouble navigating the crowds whereas the Joovy just goes right throughI chose this over the Joovy Ultralight because my son sits in the stroller so often and because my daughter was so young when I bought it If they were like age 15 and 45 Id have gotten the Ultralight  The Ergo is almost a foot longer so obviously its more comfortable but less like a single stroller than the UltralightCan this be the only stroller I own No Its the size of a tandem double stroller so its big Its heavy compared to a lightweight stroller Im not sure how its going to travel So I still need a lightweight travel stroller Im thinking of getting a Joovy Kooper since Im so happy with this Joovy product and the way that Joovy stands behind their productsWere taking it to Disney World in a few months and Ill try to post an update on how it goes If I were going alone I wouldnt be able to carry the baby and the stroller on the bus by myself but since my husband is there he can do the stroller and Ill wear the baby We debated taking a lightweight stroller but in the end Id rather be comfortable all day than be comfortable on the Disney bus Somehow people rent Baby Jogger City Mini Doubles and take those on the buses and those look just as big or bigger in person so I think this will be fine\n",
      "\n",
      "* Ive had this stroller for a little more than six months When I bought it I had a barely 3 year old son and a 3 month old baby My 3 year old is now 43 inches and still has plenty of room in both the front and the back seat I cant shop without a stroller that will fit both kids  even when I wear my baby I need a place to put her if I put her down The Joovy Ergo is so much more useful than any other stroller Ive tried Every other stroller Ive had has been good for a while but then due to its limitations we outgrow it This one is adaptable so Im still happy with it even now that my newborn is growing upWere still using it mostly with the baby in her baby carrier I LOVE that she is up high and next to me I was worried it would be hard to push with my 39lb son in front but it is SO much easier than the Graco Quattro Duo we had before Its not a onehand push when the heavier child is in front unless youre just going straight My son sleeps in the front seat a lot while my daughter sleeps in the front With most any other sitnstand they wouldnt be able to do thatWhen we use it with the baby in front and the big kid in back I can push and turn it with one hand It doesnt turn on a dime but it goes much better than other tandems I good sidebyside can turn better but IMO sidebysides are for walks not shopping or crowded areas The Joovy goes to the mallstoresmuseums and fits very well through crowdsThe Joovy also performs fairly well on grass We have thick grass where I live and I was worried about this but it performs well enough that Im getting rid of my jogging stroller because we dont need it anymore for grass excursions I dont jogIt pushes through snow pretty well The front wheels arent that big and I dont want the basket wet so I avoid snow but it pushes pretty well in an inch or soTheres an art to going up a curb in it Its fairly easy to push on the back bar and raise the front of the stroller much easier than the tandem Graco but the front wheels are on quick bearings and they will skitter around fast if you are not careful The first time I did it I thought I was going to lose the whole thing but it was fine just a disconcerting feelingThe canopies are AWESOME My son often hides in the front one like its his cave The new models dont have the floppier fleece front part of the hood now its all the same fabric I didnt mind the floppy fleece anyway It works well and I like to be able to fold it backThe basket is really big and SO easy to get to Its harder to get to when the infant seat is in place I also sometimes tip the canopy all the way to the front and put big bags on the front seat that way held in by the canopyMy son says the mesh seat us realy comfy He loves it Its certainly got plenty of room for himIt weighs less and is easier to handle than our previous Graco Quattro Tour Duo which I only kept a few months It fits in the trunk of my Honda minivan Its BIG Its a BIG double tandem stroller Its just SO comfortable to use once youve got it out Ive done the lightweight thing and its nice for certain times but most of the time when were out I need a place for sleepy kids and all of our winter coats baby stuff and shopping stuffThe build quality is very solid Our Gracos had parts start to wear through by this time but the Joovy has held up I did have a problem with the front seat flopping back sometimes because I have the first version of this stroller they changed the mechanism now but I called Joovy and theyre sending a whole NEW stroller Thats incredible customer service and amazing product support In my experience this is not the norm They are going above and beyond here and I can say that I will recommend Joovy products to everyone because they are standing by what they sell No one wants to spend hundreds of dollars on something and be told to use velcro or tape to fix it but Ive heard of other companies doing just that Joovy has also listened to what people said about the Ergo and made some new updates to fix issues that people had like the seat recline and the canopy Ive noticed that Joovy did that with the Joovy Ultralight tooIts a twohand fold Once its folded you can roll it on the rear wheels really easily so moving it isnt too hard Its heavy to lift into the trunk yes but its significantly lighter than the Graco tandemHust some random information about our experiences with the strollerWhen the weather turned cold I bought the padded seat covers and theyre very nice My son chose green and it looks sharp and has stayed clean I like the seat covers a lot The rear seat cover means you have to move it a little before you can flip up the rear seat to get full access to the basket but its no big deal to me I know some people have complained about that I guess you could just use the front cover and leave the rear one offWe started out with a Graco Quattro Tour Duo but it was hard to push with my son and daughter in it very heavy and with a 3 year old the stroller seat is not ideal After two years old it seems like most kids are just much happier in the big kid sit n standWe tried the Phil  Teds but since my son is so tall for his age it just wouldnt work because the baby would have to be in the doubles kit and with the doubles kit on theres no room for diaper bags and winter coatsWe tried the Baby Jogger City Mini Double but 3 year olds and up dont want to sit in a baby seat and that thing is really BIG Dont get me wrong the Joovy Ergo is also big but Ive had it side by side with a BJCMD in a museum and the BJCMD had a lot of trouble navigating the crowds whereas the Joovy just goes right throughI chose this over the Joovy Ultralight because my son sits in the stroller so often and because my daughter was so young when I bought it If they were like age 15 and 45 Id have gotten the Ultralight The Ergo is almost a foot longer so obviously its more comfortable but less like a single stroller than the UltralightCan this be the only stroller I own No Its the size of a tandem double stroller so its big Its heavy compared to a lightweight stroller Im not sure how its going to travel So I still need a lightweight travel stroller Im thinking of getting a Joovy Kooper since Im so happy with this Joovy product and the way that Joovy stands behind their productsWere taking it to Disney World in a few months and Ill try to post an update on how it goes If I were going alone I wouldnt be able to carry the baby and the stroller on the bus by myself but since my husband is there he can do the stroller and Ill wear the baby We debated taking a lightweight stroller but in the end Id rather be comfortable all day than be comfortable on the Disney bus Somehow people rent Baby Jogger City Mini Doubles and take those on the buses and those look just as big or bigger in person so I think this will be fine\n",
      "\n",
      "* We have been using these Dr Browns bottles for a year now and are really pleased with them Our nanny or my husband uses them to give breast milk to our son when I am at work during the day  We tried both these and the Breastflow bottles when my son was about 5 weeks old and although he was after some encouragement willing to take both types of bottle we found these simpler to use To give one example we kept having to remove the milk that was getting stuck between the two nipples on the Breastflow bottles but theres no problem like this with the Dr Browns  We also thought that the venting system was really helpful in reducing the amount of air baby gulped in when bottle feeding  we had fewer problems with gas pain and didnt need to burp him too often with these bottles  Obviously this is less of an issue now that the little guy is a year old but it was really helpful when he used to get so upset about needing to burp  Though these require a different latchsucking action than breastfeeding does we have never had any nipple confusion problems  All babies are different though so you may want to try a couple of different types of bottle to see what works for your babyOne other advantage of these bottles or of ANY standard nonwideneck bottles is that the neck of the bottles is the exact same size as the bottles that come with Medela and Spectra pumps so you can pump right into these bottles and save yourself from having to clean the pump bottles  These bottles are taller than the Medela pump bottles though and too tall to fit in the bottle cooler that comes with the Medela pumps so if this would be a problem for you you either need to stick with using  the pump bottles or find a taller coolerHere are my attempts to clear up a couple of issues raised in other reviews1 A few reviewers here mentioned problems with leaks and at least in some cases I am sure the problem is that they arent using the included travel disks  When you are toting the bottles around you need to put the travel discs under the nipples to ensure the bottles are sealed and wont leak in transit  simply putting the cap over the nipple does not seal the bottles  Refer to the owners leaflet that came with the bottles as it has a very simple diagram showing you how to use the travel disks  You must remove disks before feeding baby though as they really do completely seal the bottles off  When you are using the bottle for feeding make sure you have pulled the nipple firmly into the collar of the bottle and twisted the collar firmly onto the bottle and you shouldnt have any problems with leaking in that case either  The ONE problem we had with leaking in the past year of regular use of these bottles was when a nipple got warped  you could see the slight wave in what should be the flat base of the nipple  Unfortunately our sitter didnt notice this until she went to retrieve the bottle from the bottle warmer and saw that over an ounce of milk had oozed out of the bottle as it was heating   Once we replaced that nipple we never had another leak problem  This has only happened with one bottle nipple in over a year of using our Dr Browns bottles regularly so I am very happy with how these bottles have held up2 It is true that this set doesnt include a bottle brush but it DOES include a smaller brush or maybe 2 smaller brushes  I cant remember now that is perfectly sized to clean the little vent parts that go inside the bottle and which is also handy for scrubbing out the nippleMany have mentioned that its a bit of work to clean all the parts of these bottles and its true that the extra little parts make for some extra work  On the upside the parts are wellengineered to make it easy to get to all the crevices with the included brush  Also even if you have to wash the bottles by hand I think its worth the work to prevent a gassy fussy baby  But if you really dont want to bother just buy a couple of the dishwasher basketsDr Browns Standard Dishwashing Basket Polypropyleneand put all the parts in them  All the parts including travel disks nipples vent parts etc except the bottles themselves which can go into the dishwasher on their own fit perfectly into these baskets  We bought three of these baskets when we bought more bottles early on and it has definitely been worth this small expenditure when we consider all the cleaning time we have saved in the past yearPro tip if you have a fast letdown like I do you might want to try using the fasterflow level 2 nipples instead of the newborn ones that come with these bottles At the recommendation of our lactation consultant we switched to these almost immediately and our baby liked these bottles better with the level 2 nipples  We still use them now  never saw a need to switch to even fasterflow nipples  If you dont have a fast letdown your newborn may feel like hes drowning with faster flow nipples so you will have to determine which works best for your babyAll in all these bottles are easy to use and help prevent gas and stomach pain in your newborn  They are also pretty easy to clean especially if you buy a few dishwasher baskets I highly recommend them\n",
      "\n",
      "* I did a TON of research before I purchased this stroller and I still watch stroller reviews all the time Babygizmocom has really great reviews on so many strollers And Zooper Waltz 2011 is THE BEST of all Ive seen so farLet me tell you first though that it is not an allterrain or jogging stroller and it does not have an ability to be used for more than one child So if youre looking for these things this is not it But if youre looking for a single stroller for city walking and a little bit of park and dirt etc and you dont want a monster stroller size and weight wise this is the best stroller of that kindOne of my favorite things about this stroller is that it comes with SO many accessories that are sold separately on most other strollers especially those expensive ones With this one you pay 300 I paid 250 for it on eBay and get the following accessories all included A UV netIt easily snaps onto the canopy to completely shade the front and there are two elastic loops at the bottom to attach it securely to the stroller It comes in a zippered pouch and whats genius about it is that the pouch itself is actually part of the net so you dont have to worry about ever losing the pouch A foot muff for cold weatherIt also easily snaps onto the seat This is something you dont see included with a stroller very often A removable cup holderIt can actually hold a travel mug Starbucks cup etc and not just a water bottle A snack tray for the childLarge enough to be actually practical Has a large deep cup holder that securely holds any sippy cup a bowllike section to put some snacks and two compartments in the middle A baby bumper barYou can either completely remove it or just swing it away to make it easier to get your child in and out of the stroller Infant car seat adapter strapsYou attach it to the Drings on the sides of the seat then it goes over your infant car seat and you secure it with a buckle and by tightening the strap Its not one of those big bulky frame adapters that some strollers have for infant car seat To me thats just one more thing to find a place for when youre not using it as a travel system This strap system feels very very secure and its just much more travel friendly A rain coverThe 2011 model does not come with a rain cover but thats because the improved canopy which is gigantic and fullcoverage is made of complete waterproof fabric and acts as a rain cover I love this because I dont have to worry about forgetting the rain cover at home or fiddling with it trying to put it on when it starts raining unexpectedly on the goSo only 300 with all these amazing practical accessories is absolutely the best price for its valueNow on to the stroller features Thats right I havent even started on the main stroller yet LightweightIts just under 19lbs Im petite and dont have a lot of arm muscle but I dont have any problem getting this in and out of my trunk or carrying it up a couple flights of stairs every once in a while High weight capacity of 55lbsNot that I would use it for a 55lbs child regularly but it means its that sturdy Easy to assembleIt comes in a big box and all you have to do is snap on the wheels and the canopy Super easy Took us 5 minutes However I do want to note that we attached the canopy wrong at first and because of that it ripped at the zipper when we tried to recline the seat There are four snaps on the bottom of the canopy one set at the very front on each side and another in the middle The front set snaps onto the sides of the seat and the middle ones onto the back of the seat Our mistake was attaching the front ones to the seat back But Zooper had a super nice warranty service where they sent us a brand new canopy for no charge even though it was our fault Newborn friendlyIt has a very flat recline position and the leg rest goes all the way up and securely zips on to the sides of the seat creating a bassinetlike environment The leg rest also lays flat for babies or goes down for older kids It also has an infant guard at the top of the seat that would prevent your infant from ever sliding out of the seat when the seat is fully reclined and the back of the canopy is removed But this piece can be tucked away with an attached velcro once your child gets taller It also comes with an infant head rest that is attached to the shoulder straps but this is also removable Onehanded open and fold and stands on its own when foldedNow theres a trick to doing it onehanded Its supposed to be done with two hands and its super easy to do but you can also do it onehanded To open it you unlock the lock on the side push the big button on the handle bar and instead of grabbing the small handle on the side like you would when youre opening it with two hands you just push down on the top bar of the basket with your foot To fold it first you retract the canopy and put the seat up to the upright position lock all the wheels and then push the big button on the handlebar lift up on the small handle on the side with your knee just a little nudge and then you push the whole stroller down towards the ground with the handlebar That allows the frame to slide into a folded position Then I usually have to push down on the front of the frame with my foot to engage the lock It might sound complicated but once you get the hang of it you can do it in seconds My babys been real clingy and so its been nice being able  to open and fold the stroller while holding him Fullcoverage canopy with a large viewing windowThis canopy is probably my favorite feature of this stroller First of all its huge and it folds all the way down to the bumper bar to completely shade and cover your child It has a large viewing window with a flap to cover it when not in use The flap has no noisy velcro on it so you wont have to worry about waking up your baby When the seat is fully reclined but you still want fullcoverage on your sleeping baby you can actually unzip whole another fullsized panel to do that Also theres another zipper on the canopy that you can unzip and reveal a mesh underneath the back of the canopy This enables a good airflow through the back into your child The whole back of the canopy and the mesh underneath it are both completely removable as well Great storageThe basket is huge and can fit my diaper bag another big bag with beach towels and blankets jackets water bottles and lunch fairly easily So its perfect for picnics and shopping It has a hard bottom so that you will never be dragging your stuff on the ground An amazing feature of this basket is that they put a vertical zipper on each side of the basket towards the front of the stroller that goes all the way to the bottom so you will have a complete access to the content even when the seat is fully reclined I love it I also like that the side fabric of the basket is kind of seethrough so you can see where everything isAlso there is a large pocket on the back of the canopy where I can fit my clutchsize purse and another pocket on top of it with a lid which is perfect for keeping your keys cellphones etc Theres another small pocket on the back of the seat where the warnings are supposed to go but thats where I keep my UV net and car seat adapters Onehanded bar recline that has 4 different positionsI can even adjust the recline up and down while walking with this stroller Seat fabric machinewashableThe seat fabric comes off to be machinewashed Canopy is spot clean only Excellent maneuverabilityIt pushes really well and as long as Im on a paved street I can totally push it and even turn it onehanded with the baby and tons of stuff in the basket It does pretty good on grass dirt and gravel but I usually need two hands to turn on rough terrain Carrying handle on the side and the ability to wheel behind when its foldedCarrying handle is definitely nice when I lift it up to put it in my trunk and if you have the front wheels locked you can wheel it behind you like a luggage Front swivel wheels that can also be locked straight for rougher terrain and onetouch rear brakeThis is pretty standard for most strollers but its definitely a nice feature All four wheels have suspension systemIve taken it on grass and some dirt roads and it pushed very well Padded five point harness that are height adjustableThis is pretty standard too and you do have to rethread the shoulder straps to adjust the height but you wont be adjusting them all the time so this is not an issue The paddings on the shoulder straps are easily removable The buckle is easy to do no puzzle pieces You can also detach the shoulder straps and use it as a 3 point harness once your child is old enoughAs you can tell I just cannot say enough good things about this stroller Ive been using it for almost 7 months since my son was a newborn and I absolutely love itZooper also has Bolero and Twist and the differences areBolero is 400 and comes with a bassinet kit to make the seat a real bassinet Its a tad bigger and heavier but has a more compact standing fold than WaltzTwist is 200 and has an umbrella fold It can not stand on its own when folded but everything else is the same as Waltz\n",
      "\n",
      "\n",
      "Most negative reviews:\n",
      "* My husband and I are VERY disappointed and shocked by how awful this bassinet is We ordered it because we liked the color and it looked nice and simple and it was inexpensive Well we got what we paid for1 It comes in 3 parts so you would think assembly would be a piece of cake EVERYTHING about assembling this is awful There are metal wires on the back that you have to force into these clips which is almost impossible because the wire is way too long I 10 months pregnant had to push the opposite side of the bassinet as hard as i could so my husband could try to get the wire into the clips that it comes with This took us a very long time2 Next we tried to pull the legs apart which were wedged together by all the screws and things attached3 THE CANOPY You would think this would be a sinch right The canopy wires or wine as they call them in the instructions was backwards The canonpy is so flimsy that it hardly is worthwhile Once we got the canopy wire turned around correctly we pushed as hard as possible to insert the canopy into the base and twice in about an hour the canopy already popped out which clearly poses a safety issue if there were a baby inside4 The wheels were very hard to insert to the point that they clicked in5 The instructions were obviously written by a nonEnglish speaking person Not only is the grammar horrific there are spelling errors and the instructions tell you NOTHING What does Pull forward to open pull afterward to close mean This is all that is given on how to insert the canopy Which again you would think would be self explanatory But when you are trying for 20 minutes to get it to insert and the wire is backwards you look for some sort of instruction The only instruction they do give is the obvious Again open canopy Ok thank you thats great HOW DO YOU INSERT IT PROPERLY6 Finally the color is very weird I wouldnt have even mentioned this if it wasnt so awful in every other way I thought it was going to be green but like a previous review said its blue and yellow plaid with green ruffles The sheet that comes with it is a very rough material The basket beneath seems impossible to get into as there is just a very small opening on the sides All of this I could have lived withI am so frustrated with this because we are having our baby in 3 days and the bassinet just arrived I was excited assuming we would have the bassinet in time for the baby Now it appears we are going to have to return it because it is so awfulIf we can figure out how to get this thing apart and no wonder it is out of stock everywhere no one wants to sell junk like this I was going to keep it and make do with it until the canopy continued to pop out I cant put my baby in something this unsafe And now its to the point where I am so frustrated with how poorly made this is that even though it was only 60 its the principle that I want something that will last through future children I have no idea where we are going to put our baby for the first week or so during the most exhausting period of motherhood Thanks a lot Dream on Me\n",
      "\n",
      "* This product should be in the hall of fame solely based on its ability to achieve such a high number of positive ratings from parents hoping to stimulate their childs intelligence Dont be fooled its a piece of junk I had such high hopes for this and even at a 15 purchase price I feel ripped offProsNice images with high color contrastCons Simply horrible construction The pieces of plastic could not be more cheap and one of the nubs cracked right off during assembly The arches and misc plastic pieces probably cost all of 20 to manufacture in total The image cards do not easily fit into the attachment nubs and do not hang straight as a result Maybe this changes over time but right now from an underneath view you basically see a card slanted sideways Not interesting IMO The bar that attaches to the side of the crib is a terrible design and it is LAVENDER Seriously it is not white at all It clashes completely with the rest of the product contrary to the image on Amazon and the product boxIts just cheap and hideous really The idea is good but they should be ashamed at the execution The cheap thin plastic and nonmatching parts should be an embarrassment to any manufacturer who claims to me making toys to stimulate a childs thinking and intelligence There was clearly neither thinking or intelligence behind this product\n",
      "\n",
      "* The first monitor broke within 1 month of use the talk back feature would not work We sent it back to Summer Infant and they sent a replacement 4 days after using the replacement the monitor stopped working in the middle of the night I woke at random to check on my newborn baby only to discover that it was not working I would not have been able to hear the baby if she had cried during that time The monitor would not turn on or off just had a blue screen We were going to send it back but then when the battery died and we plugged it in the next day it suddenly worked again We gave it another shot 2 weeks later the same thing happened and the monitor stopped working in the middle of the night while we were sleeping I called Summer Infant and there was no apology for the 2 failed products They were not concerned that this safety tool had failed I asked for a refund but was told that I could only exchange it for another of the same model Despite having had 2 failed monitors in the same month I said that I did not want the same model as it was unreliable and not safe I had to argue with the customer service rep who refused to let me speak to a supervisor or manager Finally she said they would bend the rules and let me get a different monitor but I had to pay the difference in price The price she quoted me for the alternate monitor was 35 more than the cost of the monitor on AmazoncomLong story short this monitor is crap and cant be trusted The company does not seem to care about customer satisfaction or child safety Nor do they stand by their products DO NOT BUY THIS MONITOR GO WITH THE MOTOROLA BRAND Better product or significantly better customer care\n",
      "\n",
      "* This is the first review I have ever written out of the many things I have purchased through amazon  I write this because I feel very strongly about the poor quality levana products and feel people should have a heads up about what they are gettingWhen my baby was first born I originally bought the basic levana babyview 20 and it worked well until right after 1 year  The antennae broke off exposing the wire underneath it the kickstand on the monitor broke offso I contacted levana customer service  I couldnt get through to them via phone so I emailed  Didnt hear back for a few weeks then emailed them again  They pretty much told me that because it had been longer than a year it was a too bad so sad situation  The monitor seemed to function for several months and I decided instead of buying a new one I would try to wait it out  Then shortly thereafter it was making a very loud noise that I couldnt sleep with it on  The monitor was not mishandled or droppedjust generally used and it still fell apart so fastAfter looking and looking for a new monitor I kept coming back to this levana item because of the lower price with all the bells and whistles talk talk to baby temperature etc  Originally when I first started looking I remember there being a lot more reviews with half negative half positive ones for this item but after about a week all the reviews were wiped out and there were only 4 reviews with 5 stars  I fooled myself into thinking maybe this was a much better product and for the price and free shipping I decided on itIT IS A TERRIBLE MONITOR  IF YOU WANT TO SEE FROZEN IMAGES OF YOUR BABY AND NOT LIVE VIDEO DO NOT GET THIS MONITOR  The battery life is terrible the image quality is poor blue blurry images The talk to baby function makes your voice sound like a monster  I dont even use it because is TERRIFIES my baby  THe only nice thing about it is tells you the temperature of the roomI am in the process of contacting CSN to see if I can return this  I wont be purchasing levana again  Maybe I got a bad monitor or maybe they just put our poor products assembled in China You get what you pay for and if you think this is a good deal think againAlso shady that Amazon removes reviews at their lesiure  Who knows they might not like this honest review and not even post it in which case I wont purchase anything from amazon again\n",
      "\n",
      "* First off I did manage to find this product for 20 less at the big box store than the price here Secondly this product is horribly manufactured  Absolute waste of money  The only thing Ill give it credit for is the assembly instruction sheet is as clear cut as Ive come across in assembleathome baby products  But thats where the quality ends  In the first step I noticed the foot pieces did not attach as described in the instructions and this is because the 3 pieces in question were supposed to be uniform to fit in the same manner in all 3 places  But poor manufacturing threw that uniformity out of the window  One piece fit fine the second piece not so much and the third piece not at all  Theyre supposed to snap into place but I noticed the 3 supposedly identical pieces slightly varied in size on the locking parts causing one piece to fit where it was supposed to but the other 2 not to  All pieces on this product snap into place using the old indented tab system for locking into slots  These tabs are so flimsy and brittle they cracked when trying to snap them into position  And even the ones that didnt crack fit so loosely I have serious choking concerns in how easy itd be for a child to simply pull them loose  Also the little key ring items have cheap stickers on them that dissolve and flake off when you wash them  Another choking concernFinally the musical element to this product the little box with the mirror and 3 animals on it suffers from faulty design that makes it unusable with the product  Every other part to this product snaps into place except for this one piece  The assembly sheet instructs you to sit this piece into place and turn two keys on the bottom side to lock it into place on the entertainment center effectively forming a clamp that locks the music box onto the center  The problem is the gap between the key and the bottom of the music box that forms this clamp lock is just under 18 wide and the slot you slide it into to turn the key and lock it onto has an edge thats a little over 14 thick  This makes it impossible to turn the key and lock the music box onto the entertainment center as the instruction sheet clearly states you should be able to do  Very poorly manufactured  This makes the audio portion of the product essentially useless as a whole  And Id be willing to bet all units of this product suffer from the same faulty form  Im extremely disappointed not only with this but the clear choking hazards I see with the other loose fitting parts and peeling flaking dissolving stickers on the key ring  Will definitely be taking this product back for a full refund  I cant stress enough how much anyone considering this product should steer clear of it  Blatant failure of quality and safety control on the manufacturers part\n",
      "\n"
     ]
    }
   ],
   "source": [
    "#c) \n",
    "paired_probs = list(zip(proba_prediction[:, 0], test_df['review']))\n",
    "sorted_probs = sorted(paired_probs, key=lambda x: x[0])\n",
    "\n",
    "print(\"Most positive reviews:\")\n",
    "for i in sorted_probs[:5]:\n",
    "    print(f\"* {i[1]}\\n\")\n",
    "\n",
    "print(\"\\nMost negative reviews:\")\n",
    "for i in sorted_probs[-5:]:\n",
    "    print(f\"* {i[1]}\\n\")"
   ]
  },
  {
   "cell_type": "markdown",
   "metadata": {},
   "source": [
    "### Comment\n",
    "In both cases, the reviews are quite long, which is probably why they were in the first positions because they have a lot of words that are characteristic of a given group."
   ]
  },
  {
   "cell_type": "code",
   "execution_count": 16,
   "metadata": {},
   "outputs": [
    {
     "name": "stdout",
     "output_type": "stream",
     "text": [
      "Model accuracy [0.93%]\n",
      "Model accuracy [0.93%]\n"
     ]
    }
   ],
   "source": [
    "#d) \n",
    "from sklearn.metrics import accuracy_score\n",
    "\n",
    "print(f\"Model accuracy [{round(model.score(x_test, y_test), 2)}%]\")\n",
    "print(f\"Model accuracy [{round(accuracy_score(y_test, prediction), 2)}%]\")"
   ]
  },
  {
   "cell_type": "markdown",
   "metadata": {},
   "source": [
    "### Comment\n",
    "I have already calculated the accuracy of the model manually in task 3a. But above I presented two more methods to get precision using library functions. All 3 gives the same result. Our model is very good trained."
   ]
  },
  {
   "cell_type": "markdown",
   "metadata": {},
   "source": [
    "## Exercise 5\n",
    "In this exercise we will limit the dictionary of CountVectorizer to the set of significant words, defined below.\n",
    "\n",
    "\n",
    "a) Redo exercises 2-5 using limited dictionary.   \n",
    "b) Check the impact of all the words from the dictionary.   \n",
    "c) Compare accuracy of predictions and the time of evaluation."
   ]
  },
  {
   "cell_type": "code",
   "execution_count": 17,
   "metadata": {},
   "outputs": [],
   "source": [
    "significant_words = ['love','great','easy','old','little','perfect','loves','well','able','car','broke','less','even','waste','disappointed','work','product','money','would','return']"
   ]
  },
  {
   "cell_type": "code",
   "execution_count": 18,
   "metadata": {},
   "outputs": [
    {
     "name": "stdout",
     "output_type": "stream",
     "text": [
      "Limited words: ['able' 'broke' 'car' 'disappointed' 'easy' 'even' 'great' 'less' 'little'\n",
      " 'love' 'loves' 'money' 'old' 'perfect' 'product' 'return' 'waste' 'well'\n",
      " 'work' 'would']\n",
      "Most positive words: ['car', 'old', 'able', 'well', 'little', 'great', 'easy', 'love', 'perfect', 'loves']\n",
      "Most negative words: ['disappointed', 'return', 'waste', 'broke', 'money', 'work', 'even', 'would', 'product', 'less']\n"
     ]
    }
   ],
   "source": [
    "#a)\n",
    "vectorizer_limited = CountVectorizer()\n",
    "vectorizer_limited.fit_transform(significant_words)\n",
    "\n",
    "x_train_limited = vectorizer_limited.transform(train_df['review'])\n",
    "x_test_limited = vectorizer_limited.transform(test_df['review'])\n",
    "\n",
    "all_names_less = vectorizer_limited.get_feature_names_out()\n",
    "print(f\"Limited words: {all_names_less}\")\n",
    "\n",
    "model_limited = LogisticRegression(solver='sag', max_iter=200)\n",
    "model_limited.fit(x_train_limited, y_train)\n",
    "\n",
    "paired_coefs = list(zip(model_limited.coef_[0], all_names_less))\n",
    "sorted_coefs = sorted(paired_coefs, key=lambda x: x[0])\n",
    "\n",
    "print(f\"Most positive words: {[x[1] for x in sorted_coefs[-10:]]}\")\n",
    "print(f\"Most negative words: {[x[1] for x in sorted_coefs[:10]]}\")"
   ]
  },
  {
   "cell_type": "markdown",
   "metadata": {},
   "source": [
    "### Comment\n",
    "The model again assigned the words according to what we feel and what emotions they reflect."
   ]
  },
  {
   "cell_type": "code",
   "execution_count": 19,
   "metadata": {
    "scrolled": false
   },
   "outputs": [
    {
     "name": "stdout",
     "output_type": "stream",
     "text": [
      "[[0.00188068 0.99811932]\n",
      " [0.39802999 0.60197001]\n",
      " [0.01817549 0.98182451]\n",
      " ...\n",
      " [0.00572053 0.99427947]\n",
      " [0.05233346 0.94766654]\n",
      " [0.04712281 0.95287719]]\n",
      "Model classes [-1  1]\n",
      "Most positive reviews:\n",
      "* My daughter 8 months old loves this toy and has for a few months I love it too  Its not only a stacking toy but several toys in one each providing development benefits The removable elephant head serves as a funnel into which you drop balls  The head itself is fun since the ears crinkle and the hair is little knots that provide tactile sensation  My daughter loves to grab it and wave it around Each stackable ring is soft and easy for my daughter to grab and wave around which she loves to do  Two of the rings the elephant feet have Velcro joining the feet that my daughter can separate and rejoin The 4 different colored balls rattle and each has a different patter pressed on it  My daughter loves to shake the balls which fit perfectly into her hands  but not her mouth and she also loves to feel the patterns on the balls When you drop the balls into the funnelchute it plays a song which you can disable  The balls then roll out the door which can be closed  Great for teaching causeandeffect as well as objectpermanence  My daughter leaned that there a balls behind the door and loves to open it to get them outThis is a wellthoughtout toy that fosters her development and my daughter loves it\n",
      "\n",
      "* I was very excited when I heard Chicco was finally coming out with a double stroller I was initially against any double stroller I just didnt want to mess with it But when our daughter was 25 years and our son was four months we were taking a month long trip abroad and I knew we wouldnt be able to corral both kids without one The Cortina Together worked wonderfully for what we needed We already had a Chicco car seat and Trevi so we knew we liked Chicco And I wanted both kids to be able to sit comfortably I knew a sit and stand would be lighter but didnt want my twoyearold to have to stand or sit on an uncomfortable tiny seat all the time After hauling this thing all over Europe here is why I love this strollerYou can easily snap the Chicco car seat into it I love that you can place it in the front seat or back seat When we want more control of our toddler we place her in the back and baby in the front But when we are just enjoying a walk she loves sitting in the front to see better and hop in and out on her own It is also a great feature that the rear seat fully reclines This is nice for a napping toddler and makes a great bassinet for a sleeping babyThe basket underneath is very large and very accessible Adding the zippered front is a huge help to be able to access things even when the back seat is fully reclined I was able to easily carry diaper bags luggage groceries etc in that thing I also like that the basket stretches in front of the rear seat If our daughter dropped anything it caught it which is nice when you are running to catch a train and not keeping track of everythingThe canopies work well They arent large but the fact that they adjust so easily means you can keep your children covered from rain or keep the sun out of their eyes no matter what angle I also love having the two cup holders for mom and dad as well as the two cup holders on the front seat A con however is that there are no cup holders for the back seat And the two cup holders on the front can be switched which is nice But if you have them turned out you cant fold the canopy up when the stroller is folded and if you have them turned in you cant fold the front seat down to accommodate the car seat But this is super easy to adjust The seats move very easily as well  one hand adjustment The brakes and wheel locks are great and easy tooEven with its large size the stroller turns on a dime The handle bar adjusts easily for pushers of different heights Sometimes we found the stroller can be a little tricky to fold up  the lock only requires one hand but you have to maneuver the stroller just right to get it to collapse on itself When folded up though its not too huge  it easily fits in our Honda CVR no problem Its great for on the go easy to set up  no adjustments neededThe stroller proved to be very durable  considering we hauled it on and off planes and trains as well as up and down cobblestone streets and offroad Like others have said it is heavy but it is a double stroller thats what you get It is lighter than many options though My close friend has a Graco double and she is super jealous of our Chicco One other negative is theres no handle or really great place to grab the stroller to carry it when its folded up The feature that allows it to still roll when folded is nice but obviously doesnt help when you are going up stairsI truly love this stroller and I would highly recommend it to anyone Coming from one mommy who didnt especially want a double is only five feet tall and not very strong but realized she needed it I would never use another double stroller This is the way to go\n",
      "\n",
      "* Over the last five years I have tried many different types of carriers and this one by far is the best Before I purchased this carrier I had been using my Moby wrap and even though I did enjoy it some of the flaws were just to much and I needed something that meet all my needs and this carrier delivers that for me I love how easy it is to get on  One of the issues I had with the Moby was the time it took to put on and get it adjusted before I could use it even with getting my daughter situated with the infant insert it still takes less then half the time the Moby did  I love that the straps can cross and that they sit closer to my neck then other similar carriers do I have small shoulders and always felt like the straps on other similar carriers were slipping of my shoulders  it never felt safe   The pocket on the waistband is awesome  Perfect size for a cell phone or car keys   Overall I just love this carrier Its super easy to use and the most comfortable carrier I have ever put on  My seven week old daughter loves it  almost always falls asleep within minutes and my 19 month old son loves the back carry  The only thing I would say Beco could improve on are the toy loops  it would be great if they werent closed rings so you could loop bigger things like pacifiers through them  Id also love to have a purse strap like the Boba has to help keep your purse on your shoulder however those types of things dont have anything to do with the actual function of the carrier   Again I just love this carrier and highly recommend it to anyone looking for a great ergonomic carrier \n",
      "\n",
      "* There is probably nothing more scrutinized then the thing that you trust your baby to Weve seen the test Dwight put one such device to on an episode of The Office Hopefully the manufacture or Consumer Reports has done that much for us As the consumer we also want it to be easy to use and comfortable for the little one as wellQuicklyI like that it Rolls easy Folds easy Lots of storage under stroller Easy to attach car seat to stroller Locking wheels Looks sportyRoom for improvement Folds but doesnt lock making it awkward to handle Unfolding is awkward and unbalanced Very little upper storage basically useless Size adjustment for shoulder height could be better Child sits awkward sort of reclined like on a slide No wind guard in frontThis stroller system was relatively easy to put together not a lot of parts mainly the wheels and cover like a BBQ There were a couple of times I had to look twice at the illustration and reread the text but you really cant do much wrong ONE NOTE the instructions suggest putting a piece of cardboard down  that is a good idea The tubing has a hard sharp edge and will damage something like a nice wood floor Once the wheels are on you should be safeSpeaking of wheels these are a decent size and roll very well soft and quiet I dont know if they will work well for jogging as the strollers designed for jogging have larger wheels and handle bumps better at a faster pace But these are great for a good walking pace The front wheel swivels for easy turning or it can be locked in placeThere is plenty storage under the stroller I would have liked something higher near the handle for something like my camera In front of the child is a tray with a couple of beer holders  Im joking but a child usually throws his bottle on the ground and these arent deep enough to hold a bottle securely while moving Same on top of the handlebar is a shallow tray with bottle holders A deeper bag would have been more efficientTo fold up the stroller is easy just pull on the clearly marked strap and it folds right up But it doesnt lock together making it flimsy and awkward to handle Unfolding isnt quite so easy Its a little off balance and awkward to do For me it kept wanting to tip forward so I have to push the wheels down as I pull up to get it to openThe main part the important part where the child sits could use some design It slants like a slide not a seat Good thing there are straps There are 5 straps you need to connect Adjusting shoulder height is not a simple task You have to pull the straps out and run them worth another set of holes Not bad if only used for one child but a hassle if you frequently trade between children of different sizeCould use a wind guard or something in front to protect the child from the elements Its wide open so on cold days the wind just blows right into the little oneThe car seat is well built and easy to work The one problem is getting the base to fit snug Unfornutaley there are so many types of seats and seatbelts and situations it can be hard to figure how to best install itIt is a sturdy stroller rolls smoothly and quietly the car seat easily fits right in its a cool sporty look and has lots of storage underneath There is room for improvement but overall a great stroller and car seat combo\n",
      "\n",
      "* This diaper bag is PERFECT There are a lot of pockets on the outside and inside The outside pockets makes it easy to access items such as pacifiers and sippy cups I love that there are little metal feet on the bottom of the bag The back panel where the changing pad goes is perfect Big enough for wide items and books The side pockets are insulated and is perfect for bottles or sippy cups I love how the strap can be converted in length so I can wear it cross body or sling it over a stroller The bag does come with stroller straps which works perfectly and very versatile I think it is a perfect sizenot to big or too smallenough to hold necessities like diapers burp cloth change of clothes toysand not be too overwhelming I can wear it out shopping and walking about It also comes with a little zip purse that you can store keys or small items and clips into the bag Easy clean fabric inside and out LOVE IT\n",
      "\n",
      "\n",
      "Most negative reviews:\n",
      "* I was excited to give these instruments to my 4 year old for her birthday because they are cute painted instruments that look even better in person than online I assumed that since the set was wooden and 1015 more expensive than other similar sets it would be durable My daughter opened the box and the drum broke within two minutes in the middle of her family birthday party She was heartbroken  she was just patting it with her hand when it broke but she thought she did something wrong I dont even know the return policy  I am so busy that is the whole reason I did birthday shopping in the middle of the night online  dealing with boxing it up and taking it to the post office is last on my priority list so it is sitting in my entryway completely useless I was disappointed that such a cute set that my daughter was so excited to receive ended up being such a waste\n",
      "\n",
      "* I am a researchaholic in general and have researched many different baby products over the past 5 years due to being a mother of 3 and wanting to get the best for the price and not wanting to settle for less  I live in the Northeast US so it gets really cold and the weather changes frequently and in extremes on a daily if not hourly basis  Anyway here are the brands Ive usedowed andor researched extensively and the comparisonsJolly Jumper Arctic Sneak A Peek Infant Car Seat Cover JJAJolly Jumper Sneak A Peek Infant Car Seat Cover JJSummer Infant Poshpouch SPCozy Car Seat Microfiber and Fleece Cover CCBabys Cozy World Microfiber  Fleece Carrier Cover BC yes the CC and the BC are different many people do not know thisJJ Cole infantoriginal bundle me JJCJJ Cole toddler bundle me  JJTOKJolly Jumper Artic JJA is awesome I would rate it the best one out of all  It is a shower cap cover for the infant car seat it has an attached blanket inside and a peekaboo flap that you can velcro closed to keep the babys face covered and warm and you can also velcro it up to stay open when when you put the baby in the car  It has two zippers which allow the cover to be fully opened without removal of the cover and easy access to baby  And lastly it keeps the baby from over heating  When opening the two zippers it enable the ability to flip the middle piece down keeping it completely off the baby  The blanket is a nice feature of this cover  You can use it alone with the two zippers open on a warmer day and you can also flip the blanket down away from the baby as well when not in use  Another nice thing about the blanket is you can wrap it around baby to keep them warm it does not go behind the baby but can be placed on the sides of the baby there is enough material on both sides to do this  Some reviewers of this carrier cover and other shower cap cover styles stated that there were gaps around the handle this is true of mostly all the shower cap covers except you can adjust this one on the sides to cover these gaps  Also you can take the wrap around blanket and cover the baby as well as feed it through the gaps on the sides to close them if the cover cannot be adjusted on your carrier to fit around the bottom to close that area  The outer portion is nylon like a jacket material and it is waterproof the fleece is substantial and it keeps the infant very warm This is an expensive carrier but well worth the money  This is top notchJolly Jumper JJ is the same carrier cover as above minus the attached blanket  Again overall an excellent cover  It is not much less money than the JJA and no matter what climate I would personally pay the extra money for the JJA just because you can use the blanket when opening the cover by the zippers and then you still have the option of zippering the carrier for more protection if it is raining or it gets colder  You can also fold down the blanket and not use it as all on the JJA and use it like a JJSummer Infant Poshpouch SP is another shower cap cover for the infant carseat but it has an opening in the top with no flap to velcro over babys face  I owned this before the JJA and here are some major differences  It is a much thinner material the fleece isnt as substantial and the outer portion is not waterproof or nylon but a fleece polyester material  The opening is rather large and I felt as though breezeswind would go right through the hole and it is definitely not as effective in making the baby warm esp in colder conditions  To remedy this problem I put a blanket on underside of the cover and the baby warmer esp on 30 degree days  I also had to put a hat and make sure the blanket was high on baby to cover the babys neck or use something to make sure babys neck was covered due to the hole being so big  It also gaps much more on the sides then the JJA and the JJ  The SP only has one zipper to unzip the baby when inside  And when you want to keep the baby inside the carrier you really have to take the whole thing off to leave the baby in in order to not be covered  And it is hard to get the baby out without pushing it asideAND MOST IMPORTANTLY  PLEASE SEE  it was very scary when I discovered that when you place it on correctly and put it over the infant carseat I would put my infant carseat into the holster and it WOULD NOT I repeat WOULD NOT lATCH INTO THE BASE  There was no way of knowing this unless you checked I check my baby each time to make sure the carseat is latched in just by habit but it would not even be partially latched just completely unlatched  I felt this was unacceptable  Even when I tried to adjust it by pulling the bottom portion up where the babys feet would be the cover bc of the elastic would just come up bunch and be partially off with a gap under the babys feet so I feel this carrier is a COMPLETE WASTE OF MONEY  I paid 23 the cost of the JJA and it is more then the CC and BCCozy Car Seat Microfiber and Fleece Cover CC A lot of people think this is the BC and it is the same price but it is not  It is a cheap spin off of the BC even though it is the same price  The fabric is less substantial it is honestly more like the SP  Not worth the money and dont make the mistake of getting itBabys Cozy World Microfiber  Fleece Carrier Cover BC uses a type of microfiber called microsuede which is a soft fabric made from synthetic fibers that are an imitation to suede  It seems like it is a good bang for your buck coming in around twenty dollars which is half of the JJA  The only thing is if you live in a really rainy climate I dont think it would be as waterproof being microsuede as the JJ or the JJA material  Another reviewer stated that the BABYS COZY WORLD is reversible which I am not sure how it can be reversible deeming that it does have a flap that goes over the infants face like the CC JJA and JJ but maybeThe reviewer also stated that the BC has pacifier clips which would be a nice feature for toys as well and that is is very thick for all weather and it is the same price as the CC  ONE THING that many reviews said about the CC and the BC is that the zippers can be dangerous bc they line up in the same place as a newborns eyes and have the potential for scratching the cornea  With the JJ and the JJA the zippers do not seem as though they would reach this far  Maybe the CC and the BC have larger zippers that might spin around in opposite directions esp if it is reversible  It does have the zippers on both sides like the JJ and JJA to unzip and expose the infant nicely when inside  For the price this seems like it would be a good carrier as well and I would rate the the BC a close second and very comparable to the JJ but does not have a blanket feature like the JJAJJ Cole infantoriginal bundle me JJCis what I owned with my first child who was a premature infant and I only got about 7 months of use out of this cover due to the fact that infants tend to grow out of it very fast usually before they are out of their infant carseat  That is why I got the toddler JJ cole toddler size after  It is a different type of carrier than all the others that are reviewed above being that it is not a shower cap style it has an underside fabric to the carrier that is placed under the harness straps and then a layer goes over the baby and is zippered down and around the bottom  FIRST OF ALL THIS IS DANGEROUS which I never knew as a new mom and why they even CAN SELL them as carseat covers is beyond me because if you get into an accident it compresses under the infant because of the added bulk between the seat and the child it is like the infant is wearing a jacket so there is more room in between the harness and the infant deeming it unsafe  Also JJ cole now has the lite JJ cole and says that it passed crash tests but The Bundle me Lites openings do not come anywhere near the hip straps of the harness meaning they would be improperly routed thus creating slack  Here is a picture   No certified carseat technicians recommend this aftermarket product for the carseat  Any many if not all carseat companies state if an aftermarket product is used inside the carseat between the harness and baby it will void all guarantees for safety  NOT GOODJJ Cole toddler JJT  Had this mostly with my first child after she was 7 months and second child and would not use now dt the same reason above with the JJ  But it could be nice with a stroller  The only thing is you do need a hat and something to cover the babys neck as wellIn summary1The Jolly Jumper Artic JJA wins the race I am very very please with this product esp the blanket aspect that I think is well worth itThe JJ is basically the same product as the JJA but without the blanket2The Babys Cozy World Microfiber  Fleece Carrier Cover BC but make sure it is the BC and not the CC when you purchase it comes in a close second esp for the priceHope this review is helpful to you and you now wont have to go through the countless hours of research and will be getting a great product while not wasting any of your time or money on another worthless baby item instead ONLY getting the BEST for your baby\n",
      "\n",
      "* Day 1 Assembled it Had it up and running playing music spinning The baby just loved itDay 2 Turned it on and it would not spin It just made some clicking sounds and played music Filled out an Amazon request to return due to defectDay 3 UPS picked it up for return to AmazonBased on the number of negative reviews if you buy this product your just gambling if you need to return it or not I would recommend keeping the box for a few days that way if you run into the same problem the return process isnt that difficult If it breaks outside the return window you are out of luck however so you may want to consider that when making your purchase\n",
      "\n",
      "* Babyhaven knew that the items were never taken out their boxes and definitely not used however they gave me no consideration for a return I understand that they have a return policy but Im sure exceptions have been made  These were purchased to keep our kitty from opening bedroom doors but we had to put him down before we could install the product  We placed them in a closet and just found them  As one can imagine after losing a member of our family my first thought was not in returning the items  We found the package this weekend and thought we would at least attempt a return  But because they were purchased over 30 days ago we are unable to return them  This company should consider the condition of the item in the return before just flat out denying the return I will not be purchasing any additional items from this company\n",
      "\n",
      "* My wife has been sucessful using the pump but generally speaking the pump has numerous idiosyncrasies that you should consider before purchasing it  Had we done more homework we likely would have chosen a different pump  If only you could return a personal item to Babies r Us once youve opened it we wouldMy main complaint is that the pump is not very practical  While my wife expresses a fair amount of milk using the product she obtained the same amount of milk using the Medela pump Symphony  There is a long unrelated story why we rented a Medela pump for 2 weeks but it provided a useful period to compare the products sidebysideIn order of importanceSetup  A lot of parts to plug in connect and ultimately clean not to mention misplace or loose  Medela has this pump beat handsdown on this front  Managing this process at home is a chore if youre pumping at work I would imagine this becomes even more difficult  I suppose this is why Avent dont provide the option of a car power adapter  Avent tries sugar coatingspinning this fact out of the gate in the instructional dvd they provideWhile setup appears difficult at first youll soon become use to it  Yeah you get used to but why should you  You dont with the competing products and just think about having to deal with this in the middle of the night when you are sleep deprivedTubing  As a previous user stated the tubing is not very flexible  Especially compared to Medelas tubing  The tubing for the Avent Duos pumps and the corresponding control cord are bound together from the base up to about 75 the length of the tubes  Medelas has separate tubes for each pump  They are much more flexible and lighter  What does this all mean Medelas product is easier to attach separate and MUCH less prone to tip over  Again bad design on Avents part  Fortunately for the time being as my wife is still at home we dont remove the tubing from the pump itself but I see this becoming an issue once she returns to workTop Heavy  As mentioned in other reviews the pump units are top heavy and prone to tipping  The first time this happened my wife cried  The inflexiblefused tubing exacerbates this problem  If you buy the pump be warned and most of all be careful As mentioned in other reviews they only make base stabilizers for the 4oz bottles  To my knowledge youre out of luck for larger bottles and the reuseabledisposable VIA bottles Keep in mind  using a bigger Avent bottles doesnt solve the topheavy problemWaste  Compared to the Medela pump more milk is wasted using the Avent pump  Trust me every drop counts youll see  It is frustrating to see precious drops going to waste  Milk tends to collect behind the soft petals on the front of the horns  Its difficult and messy to harvest these drops  Also milk pools under the rubber diaphram that creates the suction on the horn  This is the area right above where the milk should drop into the bottle  You think they would design it so the milk flows right in  Well it doesnt it has to raise above the level of separate component you need to plug into the bottom of the horn  The milk that collects here is easier to harvest however by pulling off the cap and diaphram then pouring it into the bottle  Again poor design  Lastly the horns themselves dont seem to be designed with the same angle drop that the Medela ones are so you need to hunch over to compensate  If not this is why milk collects behind the soft petals  Overall the Medela pump is easier to use more comfortable and wastes less milk  Recapturing what little waste there is with the Madela pump is certainly easierNoise  The Medela Symphony product was barely audible  This pump makes a fair amount of noise As another review noted we were expecting it to be quiter  Perhaps the cheaper Medela pumps arent as quite as the one we were usingCollectively these detract from its overall usefulness and practicality  Considering what we paid for the pump Im disappointed in the experience and was expecting a much better product  Im willing to bet youll be disappointed too  Pumping is a task youll need to perform many times a day for an extended length of time  In a best case scenario pumping is a task that you endure  Why make it more difficult than it needs to beOne last bit of anecdotal information that I cant seem to escape is thisIn the SF Bay Area there is an awesome maternity support center named DayOne  Among the many services they provide is salesconsultingrenting of breast pumps  When a new pump comes on the market they ask vendors to provide a few pumps for testing purposes  Avent refused this request This resource center is one of the most influential providers of information to breastfeeding mothers in the area  If the pump is so good why not allow this center to test the pump for a few months  Instead Avent distributes this pump through BrU only  With all due respect the staff at these stores have little if any insight to offer consumers or extensive experience with the pumps they sellCall me a conspiracy theorist but this leads me to believe Avents got something to hide  If so shame on them  This is a new product for Avent and until they solve these problems I highly recommend you consider an alternativeI hope this review did not come across too jaded  It is a strong pump  However this one strength is certainly eclipsed by the many weaknesses listed If nothing else throw out my commentary but take the factors I mention Setup Waste Tubing and overall practicality into consideration when selecting a pump Especially as it relates to where and when you will be pumping  And remember youll need to be pumping in the middle of the nightBest of luck and most of all choose carefully\n",
      "\n"
     ]
    }
   ],
   "source": [
    "\n",
    "prediction = model_limited.predict(x_test_limited)\n",
    "proba_prediction = model_limited.predict_proba(x_test_limited)\n",
    "print(proba_prediction)\n",
    "print(f\"Model classes {model_limited.classes_}\")\n",
    "\n",
    "paired_probs = list(zip(proba_prediction[:, 0], test_df['review']))\n",
    "sorted_probs = sorted(paired_probs, key=lambda x: x[0])\n",
    "\n",
    "print(\"Most positive reviews:\")\n",
    "for i in sorted_probs[:5]:\n",
    "    print(f\"* {i[1]}\\n\")\n",
    "\n",
    "print(\"\\nMost negative reviews:\")\n",
    "for i in sorted_probs[-5:]:\n",
    "    print(f\"* {i[1]}\\n\")"
   ]
  },
  {
   "cell_type": "markdown",
   "metadata": {},
   "source": [
    "### Comment\n",
    "We can see here that completely different opinions are considered the best and the worst."
   ]
  },
  {
   "cell_type": "code",
   "execution_count": 20,
   "metadata": {},
   "outputs": [
    {
     "name": "stdout",
     "output_type": "stream",
     "text": [
      "Model accuracy [0.87%]\n"
     ]
    }
   ],
   "source": [
    "print(f\"Model accuracy [{round(model_limited.score(x_test_limited, y_test), 2)}%]\")"
   ]
  },
  {
   "cell_type": "markdown",
   "metadata": {},
   "source": [
    "### Comment\n",
    "This model has less precision. As we can see, narrowing the words that CountVectorizer processes increases the prediction error in our model, but on the other hand, it significantly accelerates the working time. The conclusion from this is that at the beginning we should indicate words that may mean little to our result to improve the speed."
   ]
  },
  {
   "cell_type": "code",
   "execution_count": 21,
   "metadata": {},
   "outputs": [
    {
     "name": "stdout",
     "output_type": "stream",
     "text": [
      "disappointed - [-2.3246600103959714]\n",
      "      return - [-2.1698051024225373]\n",
      "       waste - [-1.997479240917202]\n",
      "       broke - [-1.733239349706696]\n",
      "       money - [-0.9197622099350969]\n",
      "        work - [-0.6350615185326765]\n",
      "        even - [-0.5132266216447512]\n",
      "       would - [-0.3459985789056369]\n",
      "     product - [-0.30532285575865337]\n",
      "        less - [-0.17858237489337592]\n",
      "         car - [0.05689075070597551]\n",
      "         old - [0.08322216355316647]\n",
      "        able - [0.1949608676143343]\n",
      "        well - [0.48223049378912]\n",
      "      little - [0.4856560228370704]\n",
      "       great - [0.9413064790708808]\n",
      "        easy - [1.150474165981367]\n",
      "        love - [1.3435959910840163]\n",
      "     perfect - [1.4739416952059505]\n",
      "       loves - [1.704582085173517]\n"
     ]
    }
   ],
   "source": [
    "#b)\n",
    "for pair in sorted_coefs:\n",
    "    print(\"{:>12} - [{}]\".format(pair[1], pair[0]))"
   ]
  },
  {
   "cell_type": "markdown",
   "metadata": {},
   "source": [
    "### Comment\n",
    "The words loves, perfect and love have the greatest positive impact and the words disappointed, return, waste have the negative impact. We can also notice that some words had a more natural character like the word car, old and less."
   ]
  },
  {
   "cell_type": "code",
   "execution_count": 22,
   "metadata": {},
   "outputs": [
    {
     "name": "stdout",
     "output_type": "stream",
     "text": [
      "First model accuracy 0.9301763083196738\n",
      "Limited model accuracy 0.8682285211689921\n",
      "\n",
      "First model prediction time\n",
      "11.5 ms ± 361 µs per loop (mean ± std. dev. of 10 runs, 100 loops each)\n",
      "\n",
      "Limited model prediction time\n",
      "864 µs ± 47.7 µs per loop (mean ± std. dev. of 10 runs, 100 loops each)\n",
      "\n",
      "First model learning time\n"
     ]
    },
    {
     "name": "stderr",
     "output_type": "stream",
     "text": [
      "C:\\Users\\SG0316762\\.conda\\envs\\michal_conda\\lib\\site-packages\\sklearn\\linear_model\\_sag.py:350: ConvergenceWarning: The max_iter was reached which means the coef_ did not converge\n",
      "  warnings.warn(\n",
      "C:\\Users\\SG0316762\\.conda\\envs\\michal_conda\\lib\\site-packages\\sklearn\\linear_model\\_sag.py:350: ConvergenceWarning: The max_iter was reached which means the coef_ did not converge\n",
      "  warnings.warn(\n"
     ]
    },
    {
     "name": "stdout",
     "output_type": "stream",
     "text": [
      "26.1 s ± 0 ns per loop (mean ± std. dev. of 1 run, 1 loop each)\n",
      "\n",
      "Limited model learning time\n",
      "612 ms ± 0 ns per loop (mean ± std. dev. of 1 run, 1 loop each)\n"
     ]
    }
   ],
   "source": [
    "#c)\n",
    "print(f\"First model accuracy {model.score(x_test, y_test)}\")\n",
    "print(f\"Limited model accuracy {model_limited.score(x_test_limited, y_test)}\")\n",
    "\n",
    "print(\"\\nFirst model prediction time\")\n",
    "%timeit -n100 -r10 model.predict(x_test)\n",
    "\n",
    "print(\"\\nLimited model prediction time\")\n",
    "%timeit -n100 -r10 model_limited.predict(x_test_limited)\n",
    "\n",
    "print(\"\\nFirst model learning time\")\n",
    "%timeit -r1 model.fit(x_train, y_train)\n",
    "\n",
    "print(\"\\nLimited model learning time\")\n",
    "%timeit -r1 model_limited.fit(x_train_limited, y_train)"
   ]
  },
  {
   "cell_type": "markdown",
   "metadata": {},
   "source": [
    "### Comment\n",
    "The model with a top-down list of words is less precise (6 percentage points), but for our data fragment it is more than 10 times faster. The learning time of the model I mentioned earlier is also noticeably longer in the model that takes all words. This is more than 25 times longer."
   ]
  }
 ],
 "metadata": {
  "anaconda-cloud": {},
  "kernelspec": {
   "display_name": "Python 3 (ipykernel)",
   "language": "python",
   "name": "python3"
  },
  "language_info": {
   "codemirror_mode": {
    "name": "ipython",
    "version": 3
   },
   "file_extension": ".py",
   "mimetype": "text/x-python",
   "name": "python",
   "nbconvert_exporter": "python",
   "pygments_lexer": "ipython3",
   "version": "3.10.4"
  }
 },
 "nbformat": 4,
 "nbformat_minor": 4
}
